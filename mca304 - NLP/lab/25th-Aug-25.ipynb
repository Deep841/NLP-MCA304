{
 "cells": [
  {
   "cell_type": "markdown",
   "id": "f1b03929",
   "metadata": {},
   "source": [
    "### Grid Search CV \n",
    "#### Defination :\n",
    "1. GridSearchCV (Grid Search with Cross-Validation) is a method to find the best combination of hyperparameters for a machine learning model.\n",
    "\n",
    "2. It systematically tries all possible combinations of parameters you give, and selects the one that gives the best performance, based on cross-validation.\n",
    "\n",
    "#### Why use GridSearchCV? :\n",
    "1. Manually testing hyperparameters is inefficient and error-prone.\n",
    "2. Grid Search automates the process.\n",
    "3. It uses cross-validation to reduce overfitting and ensure the model generalizes well.\n",
    "\n",
    "#### Working :\n",
    "1. we r using SVM model and want to find the best:\n",
    "C: regularization parameter, kernel: 'linear' or 'rbf'\n",
    "\n",
    "2. GridSearchCV will : \n",
    "- try all combinations of C and kernel\n",
    "- train the model on trainig data using cross-validation\n",
    "- score each combination\n",
    "- return the best performing parameters\n",
    "\n",
    "--- \n",
    "\n",
    "### KNN \n",
    "#### Defination : \n",
    "1. K-Nearest Neighbors (KNN) is a simple and effective machine learning algorithm used for classification and regression.\n",
    "2. It works by finding the 'k' closest data points (neighbors) and using them to predict the output for a new data point.\n",
    "\n",
    "#### Performance :\n",
    "- Performance of KNN depends on hyperparameters like :\n",
    "1. n_neighbors → Number of neighbors (k)\n",
    "2. weights → Uniform or distance-based weighting\n",
    "3. metric → Distance metric (e.g., 'euclidean', 'manhattan')\n",
    "\n",
    "#### Why use GridSearchCV with KNN? :\n",
    "- GridSearhCv helps in automatically finding the best values of these hyperparameters by :\n",
    "1. Trying multiple combinations of k, weights, and metric\n",
    "2. Evaluating each combination using cross-validation\n",
    "3. Returning the combination that gives the best accuracy (or chosen score)\n",
    "\n"
   ]
  },
  {
   "cell_type": "code",
   "execution_count": 6,
   "id": "4399b057",
   "metadata": {},
   "outputs": [
    {
     "name": "stdout",
     "output_type": "stream",
     "text": [
      "Best Parameters: {'metric': 'euclidean', 'n_neighbors': 7, 'weights': 'uniform'}\n",
      "Best Score: 0.9800000000000001\n"
     ]
    }
   ],
   "source": [
    "# Example : GridSearchCv with KNN \n",
    "\n",
    "from sklearn.datasets import load_iris\n",
    "from sklearn.neighbors import KNeighborsClassifier\n",
    "from sklearn.model_selection import GridSearchCV\n",
    "\n",
    "#Load data\n",
    "X, y = load_iris(return_X_y=True)\n",
    "\n",
    "#define parameters grid\n",
    "param_grid = {\n",
    "    'n_neighbors': [3, 5, 7],\n",
    "    'weights': ['uniform', 'distance'],\n",
    "    'metric': ['euclidean', 'manhattan']  \n",
    "}\n",
    "\n",
    "# Create KNN model\n",
    "knn = KNeighborsClassifier()\n",
    "\n",
    "# Create GridSearchCV\n",
    "grid_search = GridSearchCV(knn, param_grid, cv=5, scoring='accuracy')\n",
    "grid_search.fit(X, y)\n",
    "\n",
    "# Results\n",
    "print(\"Best Parameters:\", grid_search.best_params_)\n",
    "print(\"Best Score:\", grid_search.best_score_)"
   ]
  },
  {
   "cell_type": "markdown",
   "id": "ec9fb801",
   "metadata": {},
   "source": [
    "This means that the optimal KNN model uses 7 neighbors, uniform weighting, and Euclidean distance, achieving 98% accuracy on the Iris dataset using 5-fold cross-validation.\n"
   ]
  }
 ],
 "metadata": {
  "kernelspec": {
   "display_name": "base",
   "language": "python",
   "name": "python3"
  },
  "language_info": {
   "codemirror_mode": {
    "name": "ipython",
    "version": 3
   },
   "file_extension": ".py",
   "mimetype": "text/x-python",
   "name": "python",
   "nbconvert_exporter": "python",
   "pygments_lexer": "ipython3",
   "version": "3.13.5"
  }
 },
 "nbformat": 4,
 "nbformat_minor": 5
}
