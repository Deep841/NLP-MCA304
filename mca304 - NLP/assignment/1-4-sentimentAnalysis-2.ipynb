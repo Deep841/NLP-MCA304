{
 "cells": [
  {
   "cell_type": "markdown",
   "id": "57043488",
   "metadata": {},
   "source": [
    "## Assignment - 1:\n",
    "### Sentiment Anaysis on IMBD Dataset with Naive Bayes"
   ]
  },
  {
   "cell_type": "code",
   "execution_count": null,
   "id": "588b0e3c",
   "metadata": {},
   "outputs": [
    {
     "name": "stdout",
     "output_type": "stream",
     "text": [
      "(50000, 3)\n"
     ]
    },
    {
     "data": {
      "text/html": [
       "<div>\n",
       "<style scoped>\n",
       "    .dataframe tbody tr th:only-of-type {\n",
       "        vertical-align: middle;\n",
       "    }\n",
       "\n",
       "    .dataframe tbody tr th {\n",
       "        vertical-align: top;\n",
       "    }\n",
       "\n",
       "    .dataframe thead th {\n",
       "        text-align: right;\n",
       "    }\n",
       "</style>\n",
       "<table border=\"1\" class=\"dataframe\">\n",
       "  <thead>\n",
       "    <tr style=\"text-align: right;\">\n",
       "      <th></th>\n",
       "      <th>review</th>\n",
       "      <th>sentiment</th>\n",
       "      <th>label</th>\n",
       "    </tr>\n",
       "  </thead>\n",
       "  <tbody>\n",
       "    <tr>\n",
       "      <th>0</th>\n",
       "      <td>One of the other reviewers has mentioned that ...</td>\n",
       "      <td>positive</td>\n",
       "      <td>1</td>\n",
       "    </tr>\n",
       "    <tr>\n",
       "      <th>1</th>\n",
       "      <td>A wonderful little production. &lt;br /&gt;&lt;br /&gt;The...</td>\n",
       "      <td>positive</td>\n",
       "      <td>1</td>\n",
       "    </tr>\n",
       "    <tr>\n",
       "      <th>2</th>\n",
       "      <td>I thought this was a wonderful way to spend ti...</td>\n",
       "      <td>positive</td>\n",
       "      <td>1</td>\n",
       "    </tr>\n",
       "    <tr>\n",
       "      <th>3</th>\n",
       "      <td>Basically there's a family where a little boy ...</td>\n",
       "      <td>negative</td>\n",
       "      <td>0</td>\n",
       "    </tr>\n",
       "    <tr>\n",
       "      <th>4</th>\n",
       "      <td>Petter Mattei's \"Love in the Time of Money\" is...</td>\n",
       "      <td>positive</td>\n",
       "      <td>1</td>\n",
       "    </tr>\n",
       "  </tbody>\n",
       "</table>\n",
       "</div>"
      ],
      "text/plain": [
       "                                              review sentiment  label\n",
       "0  One of the other reviewers has mentioned that ...  positive      1\n",
       "1  A wonderful little production. <br /><br />The...  positive      1\n",
       "2  I thought this was a wonderful way to spend ti...  positive      1\n",
       "3  Basically there's a family where a little boy ...  negative      0\n",
       "4  Petter Mattei's \"Love in the Time of Money\" is...  positive      1"
      ]
     },
     "execution_count": 4,
     "metadata": {},
     "output_type": "execute_result"
    }
   ],
   "source": [
    "# Step 1: Load the Dataset\n",
    "\n",
    "import pandas as pd\n",
    "\n",
    "#loading CSV file\n",
    "df = pd.read_csv('IMDB_Dataset.csv')\n",
    "\n",
    "#adding numeric label (0=negative, 1=positive)\n",
    "df['label'] = df['sentiment'].map({'negative' : 0, 'positive':1})\n",
    "\n",
    "print(df.shape)\n",
    "df.head()\n",
    "\n",
    "#sentiment is converted to number (0 and 1)"
   ]
  },
  {
   "cell_type": "code",
   "execution_count": 6,
   "id": "09eff3bf",
   "metadata": {},
   "outputs": [
    {
     "name": "stdout",
     "output_type": "stream",
     "text": [
      "(40000,) (10000,)\n"
     ]
    }
   ],
   "source": [
    "# Step 2: Train - Test Split\n",
    "# splitting into training and validation sets\n",
    "\n",
    "from sklearn.model_selection import train_test_split\n",
    "\n",
    "X = df['review']\n",
    "y = df['label']\n",
    "\n",
    "X_train, X_val, y_train, y_val = train_test_split(X, y, test_size = 0.2, random_state = 42, stratify = y)\n",
    "print(X_train.shape, X_val.shape)\n",
    "\n",
    "# stratify = y ensures equal distribution of positive/negative in both train & validation"
   ]
  },
  {
   "cell_type": "code",
   "execution_count": null,
   "id": "8820fcb2",
   "metadata": {},
   "outputs": [
    {
     "name": "stdout",
     "output_type": "stream",
     "text": [
      "i didn t like this movie br visit\n"
     ]
    },
    {
     "name": "stderr",
     "output_type": "stream",
     "text": [
      "[nltk_data] Downloading package stopwords to\n",
      "[nltk_data]     /Users/deeplatiyan/nltk_data...\n",
      "[nltk_data]   Package stopwords is already up-to-date!\n"
     ]
    }
   ],
   "source": [
    "# Step 3: Text CLeaning\n",
    "#converting reviews into cleaner text\n",
    "\n",
    "# Theory : LowerCasing reduces vocab size.\n",
    "#        : Remove HTML tags, URLS, punctaitons, digits (noise).\n",
    "#        : Keep negations like \"not\" as they change sentiment.\n",
    "\n",
    "import re, html\n",
    "from nltk.corpus import stopwords\n",
    "import nltk\n",
    "#nltk.download('stopwords') #comented after downloading.\n",
    "\n",
    "#to Keep negations\n",
    "stop_words = set(stopwords.words('english'))\n",
    "for neg in ['not', 'no', 'nor', 'never']:\n",
    "    stop_words.discard(neg)\n",
    "    \n",
    "def clean_text(text):\n",
    "    #removing html tags :\n",
    "    text = re.sub('r<[^>]+>', ' ', text)\n",
    "    \n",
    "    #decoding HTML entities \n",
    "    text = html.unescape(text)\n",
    "    \n",
    "    #removing URLS :\n",
    "    text = re.sub(r\"http\\S+|www.\\S+\", \" \", text)\n",
    "    \n",
    "    #lowercasing : \n",
    "    text = text.lower()\n",
    "    \n",
    "    #removing punctuatuins/digits :\n",
    "    text = re.sub(r\"[^a-z\\s]\", \" \", text)\n",
    "    \n",
    "    #removing extra spaces\n",
    "    text = re.sub(r\"\\s+\", \" \",text).strip()\n",
    "    \n",
    "    return text\n",
    "\n",
    "\n",
    "print(clean_text(\"I didn't LIKE this movie! <br> Visit: http://abc.com\"))\n",
    "\n",
    "#if we remove \"not\", nodek may misclassify \"not good\" as \"good\"\n",
    "#normalised spacing after regex replacements"
   ]
  },
  {
   "cell_type": "code",
   "execution_count": 11,
   "id": "c40eee4d",
   "metadata": {},
   "outputs": [],
   "source": [
    "# Step 4: Feature Extraction(Bag-of-Words & TF-IDF)\n",
    "# convering text to numbers using COuntVectorizer(BOW) and TfidfVectorizer.\n",
    "\n",
    "#Theory : \n",
    "#   Bag-of-Words : counts word frequency. works wll with MultinomialNB\n",
    "#   TF-IDF : scales down very common words, boosts rare but useful words\n",
    "\n",
    "from sklearn.feature_extraction.text import CountVectorizer, TfidfVectorizer\n",
    "\n",
    "bow_vectorizer = CountVectorizer(preprocessor=clean_text,\n",
    "                                 stop_words=stop_words,\n",
    "                                 ngram_range=(1,2),   # unigrams + bigrams\n",
    "                                 min_df=5, max_df=0.9)\n",
    "\n",
    "tfidf_vectorizer = TfidfVectorizer(preprocessor=clean_text,\n",
    "                                   stop_words=stop_words,\n",
    "                                   ngram_range=(1,2),\n",
    "                                   min_df=5, max_df=0.9)\n",
    "\n",
    "#adding both bigrams (1,2) captures phrases like \"not good\".\n",
    "#min_df = 5 ignores very rare words.\n",
    "#max_df = 0.9 ignores extremnly frequent words."
   ]
  },
  {
   "cell_type": "code",
   "execution_count": null,
   "id": "bb0c5ed5",
   "metadata": {},
   "outputs": [],
   "source": [
    "# Step 5: Train Models (MultinomialNB, BernoulliNB)\n",
    "# lets train n compare both NB classifiers \n",
    "\n",
    "#Theory : \n",
    "#MultinomialNB : Best for words counts or tf-idf(works on frequencies).\n",
    "#BernoulliNB : Best when features are binary (word present / absent).\n",
    "\n",
    "form sklearn.naive_bayes import MultinomialNB, BernoulliNB\n",
    "from sklearn.mertics import accuracy_score, classification_report\n",
    "\n",
    "def train_and_eval(vec , clg, X_train, X_val. y_train, y_val):\n",
    "    #vectorize : \n",
    "    X_train_vec = vec.fit_transform(X_train)\n",
    "    X_val_vec = vec.tranform(X_val)\n",
    "    \n",
    "    "
   ]
  }
 ],
 "metadata": {
  "kernelspec": {
   "display_name": "base",
   "language": "python",
   "name": "python3"
  },
  "language_info": {
   "codemirror_mode": {
    "name": "ipython",
    "version": 3
   },
   "file_extension": ".py",
   "mimetype": "text/x-python",
   "name": "python",
   "nbconvert_exporter": "python",
   "pygments_lexer": "ipython3",
   "version": "3.13.5"
  }
 },
 "nbformat": 4,
 "nbformat_minor": 5
}
