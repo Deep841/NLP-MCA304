{
 "cells": [
  {
   "cell_type": "markdown",
   "id": "27bd1060",
   "metadata": {},
   "source": [
    "## Data Leakage?\n",
    "#### Ans : \n",
    "1. data leakage happens when information from outside the training datset is used ti create the model. \n",
    "2. This leads to unrealistically good performance during trainig/validation, but the model fails badly on real-world unseen data\n",
    "\n",
    "#### Example in NLP: \n",
    "1. If we **fit CountVectorizer or TF-IDF on the full dataset (train + test)**,  \n",
    "then the model already *\"knows\"* some vocabulary from the test set.  \n",
    "\n",
    "2. This is **data leakage** because the test words should be completely unknown at training time.  \n",
    "\n",
    "---"
   ]
  },
  {
   "cell_type": "markdown",
   "id": "1c52849d",
   "metadata": {},
   "source": [
    "## fit_transform() vs transform() in CountVecotrizer\n",
    "#### fit_transform(): \n",
    "1. learns the vocabulary from the dataset and transforms text into a document-term matrix\n",
    "2. Example : vecotrizer.fit_transform(train_text)\n",
    "3. should only be used on training data, because it \"fits\" (learns vocabluary).\n",
    "\n",
    "#### transform():\n",
    "1. usees an already learned vocabukary to transform new/unseen text into the same feature space.\n",
    "2. example : vecotrizer.transform(test_text)\n",
    "3. should be used on validation/test data to avoid leakage\n",
    "\n",
    "#### from CountVectorizer prespective:\n",
    "1. if we do fit_transform() on the test set, we r letting the model \"peek\" into unseen data (test vocabulary) -> data leakage.\n"
   ]
  },
  {
   "cell_type": "code",
   "execution_count": null,
   "id": "ee2cb71f",
   "metadata": {},
   "outputs": [],
   "source": [
    "#correct approach : \n",
    "X_train_vec = vectorizer.fit_transform(train_text)  # fit + transform on training\n",
    "X_test_vec = vectorizer.transform(test_text)        # only transform using learned vocab"
   ]
  },
  {
   "cell_type": "markdown",
   "id": "f8efe6b2",
   "metadata": {},
   "source": [
    "---"
   ]
  },
  {
   "cell_type": "markdown",
   "id": "56839ca0",
   "metadata": {},
   "source": [
    "## Summary\n",
    "Data leakage occurs when information from outside the training dataset is used during model building, leading to overly optimistic results. In CountVectorizer, using fit_transform() on both train and test introduces leakage since it learns vocabulary from test data. The correct method is to apply fit_transform() only on training data to learn vocabulary, and then use transform() on test data to ensure consistent feature mapping without leaking future information.\n",
    "\n",
    "---"
   ]
  }
 ],
 "metadata": {
  "kernelspec": {
   "display_name": "base",
   "language": "python",
   "name": "python3"
  },
  "language_info": {
   "codemirror_mode": {
    "name": "ipython",
    "version": 3
   },
   "file_extension": ".py",
   "mimetype": "text/x-python",
   "name": "python",
   "nbconvert_exporter": "python",
   "pygments_lexer": "ipython3",
   "version": "3.13.5"
  }
 },
 "nbformat": 4,
 "nbformat_minor": 5
}
