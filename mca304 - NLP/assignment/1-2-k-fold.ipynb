{
 "cells": [
  {
   "cell_type": "markdown",
   "id": "2ef26924",
   "metadata": {},
   "source": [
    "## K-Fold Cross Validation :\n",
    "\n",
    "- **K-Fold Cross Validation (CV)** is a model validation technique.\n",
    "- the dataset is split into **k equal parts()folds**.\n",
    "- the model is trained on **k-1 folds** and tested on the **remainig 1 fold**.\n",
    "- this processes is repated **k times**, each time with a different fold as the test set.\n",
    "- the final performance is the **average of all k test results**.\n",
    "\n",
    "---\n",
    "\n",
    "#### Lab :\n",
    "- lab mein padha tha ki k-fold cross validation is applied/done after performing train_test_split of data.\n",
    "- also k-fold cross validation is used when we wnat to know ki konsa calssifier model use krna hai.\n",
    "- hum k-fold croos validation ek-ek kr sare clasifier models pe dekhte hui ki kis ki best performance aayi..then usko use krte h.\n",
    "\n",
    "---\n",
    "\n",
    "##### Why it is used :\n",
    "1. **Better reliability**: it reduces the risk of depending on a single train-test split.\n",
    "2. **Efficient use of data**: all samples are used for both training and validation at some point.\n",
    "3. **Stable evaluation**: helps in detecting overfitting/underfitting\n",
    "\n",
    "---\n",
    "\n",
    "#### Is it done before or after train-test split :\n",
    "- **case 1(small dataset):**\n",
    "1. use **k-fold cv directly on the dataset** (no separate train-test-split).\n",
    "2. beacuse CV itself heandles trainig and validation\n",
    "\n",
    "- **case 2(large dataset / competitions):**\n",
    "1. first split into **train + test** then apply **k-fold cross validation om train data only**.\n",
    "2.test set is kept hidden for final eva;uation (to avoid data leakage).\n",
    "\n",
    "---\n",
    "\n",
    "#### Justification\n",
    "- if we apply K-fold **before** train-test split, then the test set would involved in trainig/validation -> data leakage.\n",
    "- correct way : do train-test-split **first**, then apply k-fold CV only on **trainig data**.\n",
    "\n",
    "---\n",
    "\n",
    "#### Summary \n",
    "- K-fold CV is used to evaluate models more reliably by splitting data into k-folds.\n",
    "- it ensures all data points are used for both training and validation.\n",
    "- done after train-test-split (only on trainig set only) to prevent data leakage."
   ]
  }
 ],
 "metadata": {
  "language_info": {
   "name": "python"
  }
 },
 "nbformat": 4,
 "nbformat_minor": 5
}
