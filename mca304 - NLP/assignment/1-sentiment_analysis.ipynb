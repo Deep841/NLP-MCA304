{
 "cells": [
  {
   "cell_type": "markdown",
   "id": "14d84dd3",
   "metadata": {},
   "source": [
    "### Assignment - 1\n",
    "## Sentiment Analysis project \n",
    "### with IMBD reviews."
   ]
  },
  {
   "cell_type": "code",
   "execution_count": 12,
   "id": "b7318efb",
   "metadata": {},
   "outputs": [],
   "source": [
    "# 1. Import Libraries : \n",
    "import pandas as pd\n",
    "import numpy as np\n",
    "import string\n",
    "import re\n",
    "\n",
    "from sklearn.model_selection import train_test_split\n",
    "from sklearn.feature_extraction.text import CountVectorizer, TfidfVectorizer\n",
    "from sklearn.naive_bayes import MultinomialNB, BernoulliNB, ComplementNB, GaussianNB\n",
    "from sklearn.metrics import accuracy_score, classification_report\n",
    "from nltk.corpus import stopwords\n",
    "import nltk\n",
    "\n",
    "#these libraries cover data handling, preprocessing , text vectorization, modeling, and evaluation"
   ]
  },
  {
   "cell_type": "code",
   "execution_count": 13,
   "id": "a24e5f40",
   "metadata": {},
   "outputs": [
    {
     "data": {
      "text/html": [
       "<div>\n",
       "<style scoped>\n",
       "    .dataframe tbody tr th:only-of-type {\n",
       "        vertical-align: middle;\n",
       "    }\n",
       "\n",
       "    .dataframe tbody tr th {\n",
       "        vertical-align: top;\n",
       "    }\n",
       "\n",
       "    .dataframe thead th {\n",
       "        text-align: right;\n",
       "    }\n",
       "</style>\n",
       "<table border=\"1\" class=\"dataframe\">\n",
       "  <thead>\n",
       "    <tr style=\"text-align: right;\">\n",
       "      <th></th>\n",
       "      <th>review</th>\n",
       "      <th>sentiment</th>\n",
       "    </tr>\n",
       "  </thead>\n",
       "  <tbody>\n",
       "    <tr>\n",
       "      <th>0</th>\n",
       "      <td>One of the other reviewers has mentioned that ...</td>\n",
       "      <td>positive</td>\n",
       "    </tr>\n",
       "    <tr>\n",
       "      <th>1</th>\n",
       "      <td>A wonderful little production. &lt;br /&gt;&lt;br /&gt;The...</td>\n",
       "      <td>positive</td>\n",
       "    </tr>\n",
       "    <tr>\n",
       "      <th>2</th>\n",
       "      <td>I thought this was a wonderful way to spend ti...</td>\n",
       "      <td>positive</td>\n",
       "    </tr>\n",
       "    <tr>\n",
       "      <th>3</th>\n",
       "      <td>Basically there's a family where a little boy ...</td>\n",
       "      <td>negative</td>\n",
       "    </tr>\n",
       "    <tr>\n",
       "      <th>4</th>\n",
       "      <td>Petter Mattei's \"Love in the Time of Money\" is...</td>\n",
       "      <td>positive</td>\n",
       "    </tr>\n",
       "  </tbody>\n",
       "</table>\n",
       "</div>"
      ],
      "text/plain": [
       "                                              review sentiment\n",
       "0  One of the other reviewers has mentioned that ...  positive\n",
       "1  A wonderful little production. <br /><br />The...  positive\n",
       "2  I thought this was a wonderful way to spend ti...  positive\n",
       "3  Basically there's a family where a little boy ...  negative\n",
       "4  Petter Mattei's \"Love in the Time of Money\" is...  positive"
      ]
     },
     "execution_count": 13,
     "metadata": {},
     "output_type": "execute_result"
    }
   ],
   "source": [
    "# 2. Load Data\n",
    "df = pd.read_csv('IMDB_Dataset.csv')\n",
    "df.head() #phli 5 lines dega df (data) ki.\n",
    "\n",
    "#Loading the data and inspecting the first few rows"
   ]
  },
  {
   "cell_type": "code",
   "execution_count": 14,
   "id": "b9addc6e",
   "metadata": {},
   "outputs": [
    {
     "name": "stderr",
     "output_type": "stream",
     "text": [
      "[nltk_data] Downloading package stopwords to\n",
      "[nltk_data]     /Users/deeplatiyan/nltk_data...\n",
      "[nltk_data]   Package stopwords is already up-to-date!\n"
     ]
    },
    {
     "data": {
      "text/plain": [
       "True"
      ]
     },
     "execution_count": 14,
     "metadata": {},
     "output_type": "execute_result"
    }
   ],
   "source": [
    "# 3. Text Preprocessing\n",
    "# defining a function for : Lowercasing, Removing punctuation, Removing digits, Removing stopwords\n",
    "\n",
    "nltk.download('stopwords')  #downloading stopwords..."
   ]
  },
  {
   "cell_type": "code",
   "execution_count": 15,
   "id": "d3af379c",
   "metadata": {},
   "outputs": [
    {
     "data": {
      "text/html": [
       "<div>\n",
       "<style scoped>\n",
       "    .dataframe tbody tr th:only-of-type {\n",
       "        vertical-align: middle;\n",
       "    }\n",
       "\n",
       "    .dataframe tbody tr th {\n",
       "        vertical-align: top;\n",
       "    }\n",
       "\n",
       "    .dataframe thead th {\n",
       "        text-align: right;\n",
       "    }\n",
       "</style>\n",
       "<table border=\"1\" class=\"dataframe\">\n",
       "  <thead>\n",
       "    <tr style=\"text-align: right;\">\n",
       "      <th></th>\n",
       "      <th>review</th>\n",
       "      <th>sentiment</th>\n",
       "      <th>clean_review</th>\n",
       "    </tr>\n",
       "  </thead>\n",
       "  <tbody>\n",
       "    <tr>\n",
       "      <th>0</th>\n",
       "      <td>One of the other reviewers has mentioned that ...</td>\n",
       "      <td>positive</td>\n",
       "      <td>one reviewers mentioned watching oz episode yo...</td>\n",
       "    </tr>\n",
       "    <tr>\n",
       "      <th>1</th>\n",
       "      <td>A wonderful little production. &lt;br /&gt;&lt;br /&gt;The...</td>\n",
       "      <td>positive</td>\n",
       "      <td>wonderful little production br br filming tech...</td>\n",
       "    </tr>\n",
       "    <tr>\n",
       "      <th>2</th>\n",
       "      <td>I thought this was a wonderful way to spend ti...</td>\n",
       "      <td>positive</td>\n",
       "      <td>thought wonderful way spend time hot summer we...</td>\n",
       "    </tr>\n",
       "    <tr>\n",
       "      <th>3</th>\n",
       "      <td>Basically there's a family where a little boy ...</td>\n",
       "      <td>negative</td>\n",
       "      <td>basically theres family little boy jake thinks...</td>\n",
       "    </tr>\n",
       "    <tr>\n",
       "      <th>4</th>\n",
       "      <td>Petter Mattei's \"Love in the Time of Money\" is...</td>\n",
       "      <td>positive</td>\n",
       "      <td>petter matteis love time money visually stunni...</td>\n",
       "    </tr>\n",
       "  </tbody>\n",
       "</table>\n",
       "</div>"
      ],
      "text/plain": [
       "                                              review sentiment  \\\n",
       "0  One of the other reviewers has mentioned that ...  positive   \n",
       "1  A wonderful little production. <br /><br />The...  positive   \n",
       "2  I thought this was a wonderful way to spend ti...  positive   \n",
       "3  Basically there's a family where a little boy ...  negative   \n",
       "4  Petter Mattei's \"Love in the Time of Money\" is...  positive   \n",
       "\n",
       "                                        clean_review  \n",
       "0  one reviewers mentioned watching oz episode yo...  \n",
       "1  wonderful little production br br filming tech...  \n",
       "2  thought wonderful way spend time hot summer we...  \n",
       "3  basically theres family little boy jake thinks...  \n",
       "4  petter matteis love time money visually stunni...  "
      ]
     },
     "execution_count": 15,
     "metadata": {},
     "output_type": "execute_result"
    }
   ],
   "source": [
    "#defining pre processing function :\n",
    "stop_words = set(stopwords.words('english'))\n",
    "\n",
    "def clean_text(text):\n",
    "    #Lowercase\n",
    "    text = text.lower()\n",
    "    \n",
    "    # Remove punctuation\n",
    "    text = text.translate(str.maketrans('', '', string.punctuation))\n",
    "    \n",
    "    #remove digits\n",
    "    text = re.sub(r'\\d+', '', text)\n",
    "    \n",
    "    #remove stopwords\n",
    "    tokens = text.split()\n",
    "    tokens = [word for word in tokens if word not in stop_words]\n",
    "    return ' '.join(tokens)\n",
    "\n",
    "#applying preprocessing\n",
    "df['clean_review'] = df['review'].apply(clean_text)\n",
    "df.head()\n",
    "\n",
    "#clean and noramlize text to help the model focus on actial sentiment rather than irrelevant symbols"
   ]
  },
  {
   "cell_type": "code",
   "execution_count": 16,
   "id": "0b102f79",
   "metadata": {},
   "outputs": [],
   "source": [
    "# 4. Label Encoding Target Varibale\n",
    "\n",
    "df['label'] = df['sentiment'].map({'positive' :1, 'negative': 0})\n",
    "\n",
    "#model require numerical targets."
   ]
  },
  {
   "cell_type": "code",
   "execution_count": 17,
   "id": "d71fe916",
   "metadata": {},
   "outputs": [],
   "source": [
    "# 5. Split Data\n",
    "\n",
    "X = df['clean_review']\n",
    "y = df['label']\n",
    "\n",
    "X_train, X_test, y_train, y_test = train_test_split(X, y, test_size=0.2, random_state=42)\n",
    "\n",
    "#separates training and testing data to evaluate model performance on unseen data"
   ]
  },
  {
   "cell_type": "code",
   "execution_count": 18,
   "id": "9153185c",
   "metadata": {},
   "outputs": [],
   "source": [
    "# 6. Feature Extraction\n",
    "# a)Bag of Words(CountVectorizer)\n",
    "\n",
    "from sklearn.feature_extraction.text import TfidfVectorizer\n",
    "\n",
    "tfidf = TfidfVectorizer()\n",
    "X_train_tfidf = tfidf.fit_transform(X_train)\n",
    "X_test_tfidf = tfidf.transform(X_test)\n"
   ]
  },
  {
   "cell_type": "code",
   "execution_count": 19,
   "id": "ea39cf39",
   "metadata": {},
   "outputs": [],
   "source": [
    "# b)TF-IDF vectorizer\n",
    "tfidf = TfidfVectorizer()\n",
    "X_train_tfidf = tfidf.fit_transform(X_train)\n",
    "X_test_tfidf = tfidf.transform(X_test)\n",
    "\n",
    "#above both are ways to transform text into numeric features, will compare to which will work better for the given data "
   ]
  },
  {
   "cell_type": "code",
   "execution_count": 27,
   "id": "08724647",
   "metadata": {},
   "outputs": [],
   "source": [
    "# 7. Train and Evaluate Naive Bayes Models \n",
    "# will do for both CV and TF-IDF features\n",
    "#creating a helper function to train/test models :\n",
    "\n",
    "from sklearn.metrics import accuracy_score, classification_report\n",
    "\n",
    "def evaluate_model(model, X_tr, X_te, y_tr, y_te):\n",
    "    model.fit(X_tr, y_tr)\n",
    "    y_pred = model.predict(X_te)\n",
    "    acc= accuracy_score(y_te, y_pred)\n",
    "    report = classification_report(y_te, y_pred)\n",
    "    return acc, report"
   ]
  },
  {
   "cell_type": "code",
   "execution_count": 28,
   "id": "7146b1c5",
   "metadata": {},
   "outputs": [],
   "source": [
    "# a)With CountVectorizer\n",
    "from sklearn.naive_bayes import MultinomialNB, BernoulliNB\n",
    "\n",
    "models = {\n",
    "    'MultinomialNB': MultinomialNB(),\n",
    "    'BernoulliNB': BernoulliNB(),\n",
    "}\n",
    "\n",
    "\n",
    "results_cv = {}\n",
    "\n",
    "for name, model in models.items():\n",
    "    acc, report = evaluate_model(model, X_train_cv, X_test_cv, y_train, y_test)\n",
    "    results_cv[name] = (acc, report)\n",
    "\n",
    "\n"
   ]
  },
  {
   "cell_type": "code",
   "execution_count": 29,
   "id": "934d2dc9",
   "metadata": {},
   "outputs": [],
   "source": [
    "#b)with TF-IDF\n",
    "results_tfidf = {}\n",
    "\n",
    "for name, model in models.items():\n",
    "    acc, report = evaluate_model(model, X_train_tfidf, X_test_tfidf, y_train, y_test)\n",
    "    results_tfidf[name] = (acc, report)\n"
   ]
  },
  {
   "cell_type": "code",
   "execution_count": 31,
   "id": "c5f54557",
   "metadata": {},
   "outputs": [
    {
     "name": "stdout",
     "output_type": "stream",
     "text": [
      "===== CountVectorizer Results =====\n",
      "\n",
      "Model: MultinomialNB\n",
      "Accuracy: 0.8478\n",
      "              precision    recall  f1-score   support\n",
      "\n",
      "           0       0.84      0.85      0.85      4961\n",
      "           1       0.85      0.84      0.85      5039\n",
      "\n",
      "    accuracy                           0.85     10000\n",
      "   macro avg       0.85      0.85      0.85     10000\n",
      "weighted avg       0.85      0.85      0.85     10000\n",
      "\n",
      "\n",
      "Model: BernoulliNB\n",
      "Accuracy: 0.8520\n",
      "              precision    recall  f1-score   support\n",
      "\n",
      "           0       0.85      0.85      0.85      4961\n",
      "           1       0.85      0.85      0.85      5039\n",
      "\n",
      "    accuracy                           0.85     10000\n",
      "   macro avg       0.85      0.85      0.85     10000\n",
      "weighted avg       0.85      0.85      0.85     10000\n",
      "\n",
      "===== TF-IDF Results =====\n",
      "\n",
      "Model: MultinomialNB\n",
      "Accuracy: 0.8695\n",
      "              precision    recall  f1-score   support\n",
      "\n",
      "           0       0.86      0.89      0.87      4961\n",
      "           1       0.88      0.85      0.87      5039\n",
      "\n",
      "    accuracy                           0.87     10000\n",
      "   macro avg       0.87      0.87      0.87     10000\n",
      "weighted avg       0.87      0.87      0.87     10000\n",
      "\n",
      "\n",
      "Model: BernoulliNB\n",
      "Accuracy: 0.8542\n",
      "              precision    recall  f1-score   support\n",
      "\n",
      "           0       0.83      0.88      0.86      4961\n",
      "           1       0.88      0.83      0.85      5039\n",
      "\n",
      "    accuracy                           0.85     10000\n",
      "   macro avg       0.86      0.85      0.85     10000\n",
      "weighted avg       0.86      0.85      0.85     10000\n",
      "\n"
     ]
    }
   ],
   "source": [
    "# 8. Compare Results\n",
    "\n",
    "print(\"===== CountVectorizer Results =====\")\n",
    "for name, (acc, report) in results_cv.items():\n",
    "    print(f\"\\nModel: {name}\")\n",
    "    print(f\"Accuracy: {acc:.4f}\")\n",
    "    print(report)\n",
    "\n",
    "print(\"===== TF-IDF Results =====\")\n",
    "for name, (acc, report) in results_tfidf.items():\n",
    "    print(f\"\\nModel: {name}\")\n",
    "    print(f\"Accuracy: {acc:.4f}\")\n",
    "    print(report)\n"
   ]
  },
  {
   "cell_type": "code",
   "execution_count": 32,
   "id": "4208c4d0",
   "metadata": {},
   "outputs": [
    {
     "name": "stdout",
     "output_type": "stream",
     "text": [
      "Best alpha: 0.1\n",
      "Best CV accuracy: 0.8458249999999999\n"
     ]
    }
   ],
   "source": [
    "from sklearn.model_selection import GridSearchCV\n",
    "\n",
    "param_grid = {'alpha': [0.1, 0.5, 1.0]}\n",
    "grid = GridSearchCV(MultinomialNB(), param_grid, cv=5, scoring='accuracy')\n",
    "grid.fit(X_train_cv, y_train)\n",
    "\n",
    "print(f\"Best alpha: {grid.best_params_['alpha']}\")\n",
    "print(f\"Best CV accuracy: {grid.best_score_}\")\n"
   ]
  },
  {
   "cell_type": "code",
   "execution_count": 33,
   "id": "de93f20c",
   "metadata": {},
   "outputs": [
    {
     "name": "stdout",
     "output_type": "stream",
     "text": [
      "Test Accuracy with alpha=0.1: 0.8476\n",
      "Classification Report:\n",
      "               precision    recall  f1-score   support\n",
      "\n",
      "           0       0.84      0.85      0.85      4961\n",
      "           1       0.85      0.84      0.85      5039\n",
      "\n",
      "    accuracy                           0.85     10000\n",
      "   macro avg       0.85      0.85      0.85     10000\n",
      "weighted avg       0.85      0.85      0.85     10000\n",
      "\n"
     ]
    },
    {
     "data": {
      "text/plain": [
       "['best_multinomial_nb_model.pkl']"
      ]
     },
     "execution_count": 33,
     "metadata": {},
     "output_type": "execute_result"
    }
   ],
   "source": [
    "best_alpha = 0.1\n",
    "best_mnb = MultinomialNB(alpha=best_alpha)\n",
    "best_mnb.fit(X_train_cv, y_train)\n",
    "\n",
    "y_pred = best_mnb.predict(X_test_cv)\n",
    "acc = accuracy_score(y_test, y_pred)\n",
    "report = classification_report(y_test, y_pred)\n",
    "\n",
    "print(f\"Test Accuracy with alpha={best_alpha}: {acc:.4f}\")\n",
    "print(\"Classification Report:\\n\", report)\n",
    "\n",
    "import joblib\n",
    "joblib.dump(best_mnb, 'best_multinomial_nb_model.pkl')\n"
   ]
  },
  {
   "cell_type": "code",
   "execution_count": null,
   "id": "67540b45",
   "metadata": {},
   "outputs": [],
   "source": []
  }
 ],
 "metadata": {
  "kernelspec": {
   "display_name": "base",
   "language": "python",
   "name": "python3"
  },
  "language_info": {
   "codemirror_mode": {
    "name": "ipython",
    "version": 3
   },
   "file_extension": ".py",
   "mimetype": "text/x-python",
   "name": "python",
   "nbconvert_exporter": "python",
   "pygments_lexer": "ipython3",
   "version": "3.13.5"
  }
 },
 "nbformat": 4,
 "nbformat_minor": 5
}
